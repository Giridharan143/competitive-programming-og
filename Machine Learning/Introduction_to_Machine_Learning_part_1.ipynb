{
 "cells": [
  {
   "cell_type": "code",
   "execution_count": null,
   "metadata": {},
   "outputs": [],
   "source": [
    "print(\"hi\")"
   ]
  },
  {
   "cell_type": "code",
   "execution_count": 2,
   "metadata": {},
   "outputs": [],
   "source": [
    "import sklearn.model_selection \n",
    "\n",
    "from sklearn.datasets import load_iris \n",
    "iris_df = load_iris()"
   ]
  },
  {
   "cell_type": "code",
   "execution_count": null,
   "metadata": {},
   "outputs": [],
   "source": [
    "print(\"Datasets :\\n{} \".format(iris_df.keys()))"
   ]
  },
  {
   "cell_type": "code",
   "execution_count": null,
   "metadata": {},
   "outputs": [],
   "source": [
    "# Trying to print the description from the provided dataset which is clearly specified in here\n",
    "\n",
    "# print(\"The Description is said to followed !!!\\n\".format(iris_df))\n",
    "print(iris_df['DESCR'][:200]+\"\\n\")"
   ]
  },
  {
   "cell_type": "code",
   "execution_count": null,
   "metadata": {},
   "outputs": [],
   "source": [
    "# To find the ptarget names of the given part of the dataset\n",
    "\n",
    "print(\"Target Items : {}\\n\".format(iris_df['target_names']))"
   ]
  },
  {
   "cell_type": "code",
   "execution_count": 6,
   "metadata": {},
   "outputs": [],
   "source": [
    "from sklearn.model_selection import train_test_split as tr\n",
    "x_train,x_split,y_train,y_split= tr(iris_df['data'],iris_df['target'],random_state=0)"
   ]
  },
  {
   "cell_type": "code",
   "execution_count": null,
   "metadata": {},
   "outputs": [],
   "source": [
    "print(\"X Train : {}\\n\".format(x_train.shape))\n",
    "print(\"X Split :{}\\n\".format(x_split.shape))"
   ]
  },
  {
   "cell_type": "markdown",
   "metadata": {},
   "source": [
    "LEARNING ABOUT SCATTER PLOT GRAPH WORKING"
   ]
  },
  {
   "cell_type": "code",
   "execution_count": 8,
   "metadata": {},
   "outputs": [],
   "source": [
    "import pandas as pd\n",
    "import matplotlib.pyplot as py\n"
   ]
  },
  {
   "cell_type": "code",
   "execution_count": null,
   "metadata": {},
   "outputs": [],
   "source": [
    "iris_pd_df = pd.DataFrame(x_train,columns=iris_df.feature_names)\n",
    "print(iris_pd_df)\n",
    "import mglearn"
   ]
  },
  {
   "cell_type": "code",
   "execution_count": null,
   "metadata": {},
   "outputs": [],
   "source": [
    "#Creating a Scatter Matrix from the refined dataset which is said to be updated from the following \n",
    "from pandas.plotting import scatter_matrix\n",
    "\n",
    "scatter_verifier = scatter_matrix(iris_pd_df,c=y_train,figsize=(15, 15),marker = 'o',hist_kwds={'bins':20},s=60,alpha=.8,cmap=mglearn.cm3)"
   ]
  },
  {
   "cell_type": "code",
   "execution_count": null,
   "metadata": {},
   "outputs": [],
   "source": [
    "# Learning the part about KNN\n",
    "\n",
    "from sklearn.neighbors import KNeighborsClassifier as kr\n",
    "import numpy as np\n",
    "\n",
    "knn = kr(n_neighbors=1)\n",
    "knn.fit(x_train,y_train)"
   ]
  },
  {
   "cell_type": "code",
   "execution_count": null,
   "metadata": {},
   "outputs": [],
   "source": [
    "# testing an array for getting an clear understanding from the code\n",
    "\n",
    "x_tester_1 = np.array([[5,2.9,1,0.2]])\n",
    "print(\"X-New Shape: {}\\n\".format(x_tester_1.shape))\n",
    "\n",
    "# Prediction is said to occur \n",
    "\n",
    "prediction_tester_1=knn.predict(x_tester_1)\n",
    "print(\"Prediciton is {}\\n\".format(prediction_tester_1))\n",
    "print(\"The Target which is needed as ouptut is {} from the given target names\\n\".format(iris_df['target_names'][prediction_tester_1]))"
   ]
  },
  {
   "cell_type": "code",
   "execution_count": null,
   "metadata": {},
   "outputs": [],
   "source": [
    "# Another Prediction is said to be verified frm the foloowing code !!!\n",
    "\n",
    "y = knn.predict(y_train)\n",
    "print(y)"
   ]
  }
 ],
 "metadata": {
  "kernelspec": {
   "display_name": "base",
   "language": "python",
   "name": "python3"
  },
  "language_info": {
   "codemirror_mode": {
    "name": "ipython",
    "version": 3
   },
   "file_extension": ".py",
   "mimetype": "text/x-python",
   "name": "python",
   "nbconvert_exporter": "python",
   "pygments_lexer": "ipython3",
   "version": "3.10.9"
  }
 },
 "nbformat": 4,
 "nbformat_minor": 2
}
