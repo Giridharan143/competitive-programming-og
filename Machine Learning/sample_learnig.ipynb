{
 "cells": [
  {
   "cell_type": "code",
   "execution_count": null,
   "metadata": {},
   "outputs": [],
   "source": [
    "print(\"hi\")"
   ]
  },
  {
   "cell_type": "code",
   "execution_count": 4,
   "metadata": {},
   "outputs": [],
   "source": [
    "import sklearn.model_selection \n",
    "\n",
    "from sklearn.datasets import load_iris \n",
    "iris_df = load_iris()"
   ]
  },
  {
   "cell_type": "code",
   "execution_count": null,
   "metadata": {},
   "outputs": [],
   "source": [
    "print(\"Datasets :\\n{} \".format(iris_df.keys()))"
   ]
  },
  {
   "cell_type": "code",
   "execution_count": null,
   "metadata": {},
   "outputs": [],
   "source": [
    "# Trying to print the description from the provided dataset which is clearly specified in here\n",
    "\n",
    "# print(\"The Description is said to followed !!!\\n\".format(iris_df))\n",
    "print(iris_df['DESCR'][:200]+\"\\n\")"
   ]
  },
  {
   "cell_type": "code",
   "execution_count": null,
   "metadata": {},
   "outputs": [],
   "source": [
    "# To find the ptarget names of the given part of the dataset\n",
    "\n",
    "print(\"Target Items : {}\\n\".format(iris_df['target_names']))"
   ]
  },
  {
   "cell_type": "code",
   "execution_count": 19,
   "metadata": {},
   "outputs": [],
   "source": [
    "from sklearn.model_selection import train_test_split as tr\n",
    "x_train,x_split,y_train,y_split= tr(iris_df['data'],iris_df['target'],random_state=0)"
   ]
  },
  {
   "cell_type": "code",
   "execution_count": 25,
   "metadata": {},
   "outputs": [
    {
     "name": "stdout",
     "output_type": "stream",
     "text": [
      "X Train : (112, 4)\n",
      "\n",
      "X Split :(38, 4)\n",
      "\n"
     ]
    }
   ],
   "source": [
    "print(\"X Train : {}\\n\".format(x_train.shape))\n",
    "print(\"X Split :{}\\n\".format(x_split.shape))"
   ]
  }
 ],
 "metadata": {
  "kernelspec": {
   "display_name": "base",
   "language": "python",
   "name": "python3"
  },
  "language_info": {
   "codemirror_mode": {
    "name": "ipython",
    "version": 3
   },
   "file_extension": ".py",
   "mimetype": "text/x-python",
   "name": "python",
   "nbconvert_exporter": "python",
   "pygments_lexer": "ipython3",
   "version": "3.10.9"
  }
 },
 "nbformat": 4,
 "nbformat_minor": 2
}
